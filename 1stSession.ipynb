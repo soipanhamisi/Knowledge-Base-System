{
 "cells": [
  {
   "cell_type": "code",
   "execution_count": 1,
   "metadata": {},
   "outputs": [
    {
     "name": "stdout",
     "output_type": "stream",
     "text": [
      "Hello, World!\n"
     ]
    }
   ],
   "source": [
    "print(\"Hello, World!\")"
   ]
  },
  {
   "cell_type": "code",
   "execution_count": 3,
   "metadata": {},
   "outputs": [
    {
     "name": "stdout",
     "output_type": "stream",
     "text": [
      "Enter your symptoms one by one\n",
      "You may have the flu\n"
     ]
    }
   ],
   "source": [
    "from experta import KnowledgeEngine, Fact, Rule, NOT, W\n",
    "\n",
    "class Diagnose(KnowledgeEngine):\n",
    "    @Rule(Fact(symptoms='fever'), Fact(symptoms='cough'), Fact(symptoms='body_aches'))\n",
    "    def flu(self):\n",
    "        print(\"You may have the flu\")\n",
    "\n",
    "    @Rule(Fact(symptoms='sneezing'), Fact(symptoms='runny_nose'))\n",
    "    def cold(self):\n",
    "        print(\"You may have a common cold\")\n",
    "\n",
    "    @Rule(NOT(Fact(symptoms='fever')), NOT(Fact(symptoms=W())), salience=1)\n",
    "    def healthy(self):\n",
    "        print(\"No diagnosis, You are healthy\")\n",
    "\n",
    "# creating a new engine\n",
    "engine = Diagnose()\n",
    "# reset and input facts\n",
    "engine.reset()\n",
    "print(\"Enter your symptoms one by one\")\n",
    "while True:\n",
    "    symptom = input(\"Enter symptom \")\n",
    "    if symptom == \"done\":\n",
    "        break\n",
    "    engine.declare(Fact(symptoms=symptom))\n",
    "# running the engine\n",
    "engine.run()"
   ]
  },
  {
   "cell_type": "markdown",
   "metadata": {},
   "source": []
  },
  {
   "cell_type": "code",
   "execution_count": null,
   "metadata": {},
   "outputs": [
    {
     "name": "stdout",
     "output_type": "stream",
     "text": [
      "Enter your symptoms one by one\n",
      "You may have the flu\n"
     ]
    }
   ],
   "source": [
    "from experta import KnowledgeEngine, Fact, Rule, NOT, W\n",
    "\n",
    "\n",
    "\n",
    "class Diagnose(KnowledgeEngine):\n",
    "    @Rule(Fact(symptoms='fever'), Fact(symptoms='cough'), Fact(symptoms='body_aches'))\n",
    "    def flu(self):\n",
    "        print(\"You may have the flu\")\n",
    "\n",
    "    @Rule(Fact(symptoms='sneezing'), Fact(symptoms='runny_nose'))\n",
    "    def cold(self):\n",
    "        print(\"You may have a common cold\")\n",
    "\n",
    "    @Rule(NOT(Fact(symptoms='fever')), NOT(Fact(symptoms=W())), salience=1)\n",
    "    def healthy(self):\n",
    "        print(\"No diagnosis, You are healthy\")\n",
    "\n",
    "# creating a new engine\n",
    "engine = Diagnose()\n",
    "# reset and input facts\n",
    "engine.reset()\n",
    "print(\"Enter your symptoms one by one\")\n",
    "while True:\n",
    "    symptom = input(\"Enter symptom \")\n",
    "    if symptom == \"done\":\n",
    "        break\n",
    "    engine.declare(Fact(symptoms=symptom))\n",
    "# running the engine\n",
    "engine.run()"
   ]
  }
 ],
 "metadata": {
  "kernelspec": {
   "display_name": "Python 3",
   "language": "python",
   "name": "python3"
  },
  "language_info": {
   "codemirror_mode": {
    "name": "ipython",
    "version": 3
   },
   "file_extension": ".py",
   "mimetype": "text/x-python",
   "name": "python",
   "nbconvert_exporter": "python",
   "pygments_lexer": "ipython3",
   "version": "3.12.6"
  }
 },
 "nbformat": 4,
 "nbformat_minor": 2
}
