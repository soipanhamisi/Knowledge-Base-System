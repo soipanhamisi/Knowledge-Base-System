{
 "cells": [
  {
   "cell_type": "code",
   "execution_count": 1,
   "metadata": {},
   "outputs": [
    {
     "data": {
      "text/plain": [
       "'knowlede based matchmaking system\\nThis will match profiles based on their waited compatibility scores across multiple attributes\\nthe kbs maintains profiles and user specific rules to deter mine matches'"
      ]
     },
     "execution_count": 1,
     "metadata": {},
     "output_type": "execute_result"
    }
   ],
   "source": [
    "\"\"\"knowlede based matchmaking system\n",
    "This will match profiles based on their waited compatibility scores across multiple attributes\n",
    "the kbs maintains profiles and user specific rules to deter mine matches\"\"\""
   ]
  },
  {
   "cell_type": "code",
   "execution_count": 8,
   "metadata": {},
   "outputs": [
    {
     "name": "stdout",
     "output_type": "stream",
     "text": [
      "Top matches for profile 1: \n"
     ]
    }
   ],
   "source": [
    "class knowledgeBase:\n",
    "    \"\"\"\"this will store user profiles with their unique identifiers \n",
    "    Acts as the knowledge repository for the matchmaking system\"\"\"\n",
    "    def __init__(self):\n",
    "        self.profiles = {} #{profile_id: profile_data}\n",
    "        self.next_id = 1 #auto id counter\n",
    "    \n",
    "    def add_profile (self, profile_data):\n",
    "        \"\"\"Adds a new profile to the knowledge base with automatic assignment of an ID\n",
    "        param profile_data: a dictionary of profile attributes\n",
    "        returns: the profile ID\"\"\"\n",
    "        profile_id = self.next_id\n",
    "        self.next_id += 1\n",
    "        return profile_id\n",
    "    \n",
    "    def remove_profile(self, profile_id):\n",
    "        #this removes profiles from the knowledge base\n",
    "        if profile_id in self.profiles:\n",
    "            del self.profiles[profile_id]\n",
    "    \n",
    "    def get_profile(self, profiel_id):\n",
    "        #retrieves a profile by its ID\n",
    "        return self.profiles.get(profiel_id)\n",
    "    \n",
    "    def get_all_profiles(self):\n",
    "        return list(self.profiles.values())\n",
    "    \n",
    "\n",
    "class Matchmaker:\n",
    "    \"\"\"\n",
    "    this implemets the matchmaking logic using compatibility rules and weights \n",
    "    leveraging the KB to find the optimal matches for a given profile\n",
    "    \"\"\"\n",
    "    def __init__(self, knowledge_base, weights = None, max_age_diff = 20):\n",
    "        \"\"\"\n",
    "        :param knowlwdge_base: a knowledge_base instance\n",
    "        param weights: Dictionary conataining attribute weights fora matchmaking (sum to 1)\n",
    "        param max_age_diff: Maximum age diff allowd between profiles\n",
    "        \"\"\"\n",
    "        self.knowledge_base = knowledgeBase()\n",
    "        self.weights = weights or {'age': 0.3, 'interest':0.5, 'location': 0.2}#default weights\n",
    "        self.max_age_diff = max_age_diff #default max age diff\n",
    "\n",
    "    def calculate_compatibility(self, profile_a, profile_b):\n",
    "        \"\"\"\"1\n",
    "        this calculates the compatibilty score between two profiles\n",
    "        it implements domain specidic matching rules\n",
    "        -Age: normalized inverse age gap\n",
    "        -Interest: Jaccard similarity of interests\n",
    "        -Location: Exact match check\n",
    "\n",
    "        \"\"\"\n",
    "        #age compatibitlty(normalized inverse difference)\n",
    "        age_diff = abs(profile_a['age'] - profile_b('age'))#absolute age difference\n",
    "        age_score = max(0, 1-(age_diff/self.max_age_diff))#normalized inverse age difference\n",
    "\n",
    "        #interest comaptibility (Jaccard similarity)\n",
    "        interest_a = set(profile_a['interests'])\n",
    "        interest_b = set(profile_b['interests'])\n",
    "        intersection = len(interest_a & interest_b)#common interest \n",
    "        union = len(interest_a | interest_b)#all interests\n",
    "        jaccard_score = (intersection / union) * self.weights['interest']#jaccard similarity\n",
    "\n",
    "        #location comaptibitlty\n",
    "        location_score = (self.weights['location'] if profile_a['location'] == profile_b['location'] else 0)\n",
    "        \n",
    "        return age_score + jaccard_score + location_score\n",
    "    \n",
    "    def find_matches(self, user_id, top_n = 5):\n",
    "        \"\"\"finds the top N  matches for a given user profile based on caompatiblity scores\n",
    "        param user_id: the ID of the user to find matches for\n",
    "        param limit: the maximum number of matches to return\n",
    "        returns: a list of the best matching profiles\"\"\"\n",
    "        target_profile = self.knowledge_base.get_profile(user_id)\n",
    "        if not target_profile:\n",
    "            return []\n",
    "        #calculate compatibility scores\n",
    "        matches = {}\n",
    "        for profile in self.knowledge_base.get_all_profiles():\n",
    "            if profile['id'] != user_id:\n",
    "                matches[profile['id']] = self.calculate_compatibility(target_profile, profile)\n",
    "        \n",
    "        #sort the profiles by their scores\n",
    "        sorted_profiles = sorted(matches.items(), key = lambda x: x[1], reverse = True)\n",
    "        return sorted_profiles[:top_n]\n",
    "\n",
    "if __name__ == '__main__':\n",
    "    #initialize the knowledgebase\n",
    "    kb = knowledgeBase()\n",
    "\n",
    "    #populate with sample profiles\n",
    "    profiles = [\n",
    "        {'age': 25, 'interests': ['hiking', 'biking'], 'location': 'NY'},\n",
    "        {'age': 30, 'interests': ['biking', 'reading'], 'location': 'NY'},\n",
    "        {'age': 28, 'interests': ['biking', 'movies'], 'location': 'CA'},\n",
    "        {'age': 27, 'interests': ['hiking', 'movies'], 'location': 'CA'},\n",
    "        {'age': 26, 'interests': ['reading', 'movies'], 'location': 'NY'}\n",
    "    ]\n",
    "    for p in profiles:\n",
    "        kb.add_profile(p)\n",
    "\n",
    "    #initialize the matchmaker\n",
    "    matchmaker = Matchmaker(\n",
    "        knowledge_base  = kb,\n",
    "        weights = {'age': 0.3, 'interest': 0.5, 'location': 0.2},\n",
    "        max_age_diff = 25\n",
    "    )\n",
    "\n",
    "\n",
    "    #find matches for the firs profile\n",
    "    print(\"Top matches for profile 1: \")\n",
    "    for match in matchmaker.find_matches(1, top_n=3):\n",
    "        print(f\"profile{match[0]} with compatibilty score: {match[1]}\")                \n",
    "\n",
    "    \n"
   ]
  },
  {
   "cell_type": "code",
   "execution_count": null,
   "metadata": {},
   "outputs": [],
   "source": []
  }
 ],
 "metadata": {
  "kernelspec": {
   "display_name": "Python 3",
   "language": "python",
   "name": "python3"
  },
  "language_info": {
   "codemirror_mode": {
    "name": "ipython",
    "version": 3
   },
   "file_extension": ".py",
   "mimetype": "text/x-python",
   "name": "python",
   "nbconvert_exporter": "python",
   "pygments_lexer": "ipython3",
   "version": "3.12.6"
  }
 },
 "nbformat": 4,
 "nbformat_minor": 2
}
