{
 "cells": [
  {
   "cell_type": "code",
   "execution_count": 6,
   "metadata": {},
   "outputs": [
    {
     "name": "stdout",
     "output_type": "stream",
     "text": [
      "Adds fudge...\n",
      "Adds sprinkles... \n",
      "Here is a vanilla ice cream\n"
     ]
    }
   ],
   "source": [
    "#how decorators work\n",
    "#addeding a decorator funtion that takes the base funtion as an argument\n",
    "def add_sprinkles(func):\n",
    "    def wrapper(*args, **kwargs):#definnig a wrapper function tha takes in any number of arguments\n",
    "        print(\"Adds sprinkles... \")\n",
    "        func(*args, **kwargs)#calling the base funtion\n",
    "    return wrapper#returning the wrapper funtion ie the base function and the extended functionality/decorator\n",
    "\n",
    "def add_fudge(func):\n",
    "    def wrapper(*args, **kwargs):\n",
    "        print(\"Adds fudge...\")\n",
    "        func(*args, **kwargs)\n",
    "    return wrapper\n",
    "    \n",
    "#defining a base funtion\n",
    "@add_fudge#calling the decorator function\n",
    "@add_sprinkles\n",
    "def print_ice_cream(flavor):\n",
    "    print(f\"Here is a {flavor} ice cream\")\n",
    "\n",
    "print_ice_cream(\"vanilla\")#calling the base funtion"
   ]
  },
  {
   "cell_type": "code",
   "execution_count": null,
   "metadata": {},
   "outputs": [
    {
     "ename": "TypeError",
     "evalue": "my_map() missing 1 required positional argument: 'list'",
     "output_type": "error",
     "traceback": [
      "\u001b[1;31m---------------------------------------------------------------------------\u001b[0m",
      "\u001b[1;31mTypeError\u001b[0m                                 Traceback (most recent call last)",
      "Cell \u001b[1;32mIn[11], line 10\u001b[0m\n\u001b[0;32m      6\u001b[0m     \u001b[38;5;28;01mreturn\u001b[39;00m result\n\u001b[0;32m      9\u001b[0m num \u001b[38;5;241m=\u001b[39m [\u001b[38;5;241m3\u001b[39m, \u001b[38;5;241m4\u001b[39m, \u001b[38;5;241m5\u001b[39m , \u001b[38;5;241m6\u001b[39m, \u001b[38;5;241m7\u001b[39m]\n\u001b[1;32m---> 10\u001b[0m \u001b[38;5;28mprint\u001b[39m(\u001b[43mmy_map\u001b[49m\u001b[43m(\u001b[49m\u001b[38;5;28;43;01mlambda\u001b[39;49;00m\u001b[43m \u001b[49m\u001b[43mx\u001b[49m\u001b[43m:\u001b[49m\u001b[43m \u001b[49m\u001b[43mx\u001b[49m\u001b[38;5;241;43m*\u001b[39;49m\u001b[38;5;241;43m*\u001b[39;49m\u001b[38;5;241;43m3\u001b[39;49m\u001b[43m)\u001b[49m, num)\n",
      "\u001b[1;31mTypeError\u001b[0m: my_map() missing 1 required positional argument: 'list'"
     ]
    }
   ],
   "source": [
    "def my_map(my_func, list):\n",
    "    result = []\n",
    "    for item in list:\n",
    "        new_item = my_func(item)\n",
    "        result.append(new_item)\n",
    "    return result\n",
    "\n",
    "\n",
    "num = [3, 4, 5 , 6, 7]\n",
    "print(my_map((lambda x: x**3), num))"
   ]
  },
  {
   "cell_type": "code",
   "execution_count": null,
   "metadata": {},
   "outputs": [
    {
     "name": "stdout",
     "output_type": "stream",
     "text": [
      "This is a cat!\n",
      "This is a cat!\n"
     ]
    }
   ],
   "source": [
    "from experta import *\n",
    "from collections import defaultdict\n",
    "\n",
    "class Rule:\n",
    "    def __init__(self, *args):\n",
    "        self.conditions = []\n",
    "        for arg in args:\n",
    "            if isinstance(arg, Fact):\n",
    "                self.conditions.append(arg)\n",
    "            elif callable(arg):\n",
    "                self.conditions.append(arg)\n",
    "\n",
    "    def __call__(self, engine):\n",
    "        \"\"\"\n",
    "        This method is called when the rule is evaluated.\n",
    "        It checks if all conditions are met and executes the associated action.\n",
    "        \"\"\"\n",
    "        for condition in self.conditions:\n",
    "            if callable(condition):\n",
    "                if not condition(engine):\n",
    "                    return False  # Condition not met\n",
    "            elif not engine.facts.match(condition):\n",
    "                return False  # Fact not found\n",
    "\n",
    "        # All conditions met, execute the action\n",
    "        engine.agenda.append(self)\n",
    "        return True\n",
    "\n",
    "class KnowledgeEngine:\n",
    "    def __init__(self):\n",
    "        self.facts = defaultdict(list)\n",
    "        self.agenda = []\n",
    "\n",
    "    def declare(self, fact):\n",
    "        if isinstance(fact, Fact):\n",
    "            self.facts[type(fact)].append(fact)\n",
    "        else:\n",
    "            raise TypeError(\"Only Fact objects can be declared.\")\n",
    "\n",
    "    def run(self):\n",
    "        while self.agenda:\n",
    "            rule = self.agenda.pop(0)\n",
    "            rule.execute(self) \n",
    "\n",
    "# Example Usage\n",
    "class MyKnowledgeBase(KnowledgeEngine):\n",
    "    @Rule(Fact('animal', family='felinae'))\n",
    "    def is_a_cat(self):\n",
    "        print(\"This is a cat!\")\n",
    "\n",
    "engine = MyKnowledgeBase()\n",
    "engine.reset()\n",
    "engine.declare(Fact('animal', family='felinae'))\n",
    "engine.run()"
   ]
  }
 ],
 "metadata": {
  "kernelspec": {
   "display_name": "Python 3",
   "language": "python",
   "name": "python3"
  },
  "language_info": {
   "codemirror_mode": {
    "name": "ipython",
    "version": 3
   },
   "file_extension": ".py",
   "mimetype": "text/x-python",
   "name": "python",
   "nbconvert_exporter": "python",
   "pygments_lexer": "ipython3",
   "version": "3.12.6"
  }
 },
 "nbformat": 4,
 "nbformat_minor": 2
}
