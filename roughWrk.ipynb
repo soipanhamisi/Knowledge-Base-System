{
 "cells": [
  {
   "cell_type": "code",
   "execution_count": 6,
   "metadata": {},
   "outputs": [
    {
     "name": "stdout",
     "output_type": "stream",
     "text": [
      "Adds fudge...\n",
      "Adds sprinkles... \n",
      "Here is a vanilla ice cream\n"
     ]
    }
   ],
   "source": [
    "#how decorators work\n",
    "#addeding a decorator funtion that takes the base funtion as an argument\n",
    "def add_sprinkles(func):\n",
    "    def wrapper(*args, **kwargs):#definnig a wrapper function tha takes in any number of arguments\n",
    "        print(\"Adds sprinkles... \")\n",
    "        func(*args, **kwargs)#calling the base funtion\n",
    "    return wrapper#returning the wrapper funtion ie the base function and the extended functionality/decorator\n",
    "\n",
    "def add_fudge(func):\n",
    "    def wrapper(*args, **kwargs):\n",
    "        print(\"Adds fudge...\")\n",
    "        func(*args, **kwargs)\n",
    "    return wrapper\n",
    "    \n",
    "#defining a base funtion\n",
    "@add_fudge#calling the decorator function\n",
    "@add_sprinkles\n",
    "def print_ice_cream(flavor):\n",
    "    print(f\"Here is a {flavor} ice cream\")\n",
    "\n",
    "print_ice_cream(\"vanilla\")#calling the base funtion"
   ]
  },
  {
   "cell_type": "code",
   "execution_count": 1,
   "metadata": {},
   "outputs": [
    {
     "name": "stdout",
     "output_type": "stream",
     "text": [
      "[27, 64, 125, 216, 343]\n"
     ]
    }
   ],
   "source": [
    "def my_map(my_func, list):\n",
    "    result = []\n",
    "    for item in list:\n",
    "        new_item = my_func(item)\n",
    "        result.append(new_item)\n",
    "    return result\n",
    "\n",
    "\n",
    "num = [3, 4, 5 , 6, 7]\n",
    "print(my_map((lambda x: x**3), num))"
   ]
  },
  {
   "cell_type": "code",
   "execution_count": null,
   "metadata": {},
   "outputs": [
    {
     "name": "stdout",
     "output_type": "stream",
     "text": [
      "This is a cat!\n",
      "This is a cat!\n"
     ]
    }
   ],
   "source": [
    "from experta import *\n",
    "from collections import defaultdict\n",
    "\n",
    "class Rule:\n",
    "    def __init__(self, *args):\n",
    "        self.conditions = []\n",
    "        for arg in args:\n",
    "            if isinstance(arg, Fact):\n",
    "                self.conditions.append(arg)\n",
    "            elif callable(arg):\n",
    "                self.conditions.append(arg)\n",
    "\n",
    "    def __call__(self, engine):\n",
    "        \"\"\"\n",
    "        This method is called when the rule is evaluated.\n",
    "        It checks if all conditions are met and executes the associated action.\n",
    "        \"\"\"\n",
    "        for condition in self.conditions:\n",
    "            if callable(condition):\n",
    "                if not condition(engine):\n",
    "                    return False  # Condition not met\n",
    "            elif not engine.facts.match(condition):\n",
    "                return False  # Fact not found\n",
    "\n",
    "        # All conditions met, execute the action\n",
    "        engine.agenda.append(self)\n",
    "        return True\n",
    "\n",
    "class KnowledgeEngine:\n",
    "    def __init__(self):\n",
    "        self.facts = defaultdict(list)\n",
    "        self.agenda = []\n",
    "\n",
    "    def declare(self, fact):\n",
    "        if isinstance(fact, Fact):\n",
    "            self.facts[type(fact)].append(fact)\n",
    "        else:\n",
    "            raise TypeError(\"Only Fact objects can be declared.\")\n",
    "\n",
    "    def run(self):\n",
    "        while self.agenda:\n",
    "            rule = self.agenda.pop(0)\n",
    "            rule.execute(self) \n",
    "\n",
    "# Example Usage\n",
    "class MyKnowledgeBase(KnowledgeEngine):\n",
    "    @Rule(Fact('animal', family='felinae'))\n",
    "    def is_a_cat(self):\n",
    "        print(\"This is a cat!\")\n",
    "\n",
    "engine = MyKnowledgeBase()\n",
    "engine.reset()\n",
    "engine.declare(Fact('animal', family='felinae'))\n",
    "engine.run()"
   ]
  },
  {
   "cell_type": "code",
   "execution_count": null,
   "metadata": {},
   "outputs": [],
   "source": [
    "from experta import *\n",
    "\n",
    "class diagoseEngine(KnowledgeEngine):\n",
    "    @Rule(Fact(symptom ='fever'))\n",
    "    def malaria(self):\n",
    "        print(\"You have malaria\")\n",
    "\n",
    "    @Rule(Fact(symptom = 'cough'))\n",
    "    def flu(self):\n",
    "        print(\"You have a flu\")\n",
    "    \n",
    "    @Rule(Fact(symptom = 'headache'))\n",
    "    def hypertension(self):\n",
    "        print(\"you have hypertension\")\n",
    "    \n",
    "    #adding a wildcard rule\n",
    "    @Rule(NOT(Fact(symptom = W())))\n",
    "    def dont_know(self):\n",
    "        print(\"I dont know what you have\")  \n",
    "    \n",
    "\n",
    "engine = diagoseEngine()\n",
    "engine.reset()\n",
    "\n",
    "symptoms = input(\"enter a list of your symptoms comma seperated\")\n",
    "engineInput = symptoms.lower().split(\",\")\n",
    "for s in engineInput:\n",
    "    engine.declare(Fact(symptom = s))\n",
    "\n",
    "engine.run()cough_"
   ]
  },
  {
   "cell_type": "code",
   "execution_count": null,
   "metadata": {},
   "outputs": [
    {
     "name": "stdout",
     "output_type": "stream",
     "text": [
      "Welcome to the Medical Diagnosis Knowledge-Based System\n",
      "Possible symptoms: common cold, flu, pneumonia, tuberculosis, allergies, cough, sneezing, fever\n",
      "\n",
      "Enter symptoms (comma separated):\n",
      "No diagnoses found. Please consult a doctor.\n"
     ]
    }
   ],
   "source": [
    "class KnowledgeBase:\n",
    "    def __init__(self):\n",
    "        self.diseases = {\n",
    "            \"Common Cold\": {\"symptoms\": [\"cough\", \"sneezing\", \"sore throat\"], \"treatment\": \"rest and hydration\"},\n",
    "            \"Flu\": {\"symptoms\": [\"fever\", \"fatigue\", \"body aches\"], \"treatment\": \"antiviral medication\"},\n",
    "            \"Pneumonia\": {\"symptoms\": [\"chest pain\", \"cough\", \"fever\"], \"treatment\": \"antibiotics\"},\n",
    "            \"Tuberculosis\": {\"symptoms\": [\"cough with blood\", \"fatigue\", \"weight loss\"], \"treatment\": \"antibiotics\"},\n",
    "            \"Allergies\": {\"symptoms\": [\"sneezing\", \"itchy eyes\", \"rash\"], \"treatment\": \"antihistamines\"}\n",
    "        }\n",
    "\n",
    "        self.relationships = {\n",
    "            \"common cold\": [\"flu\", \"allergies\"],\n",
    "            \"flu\": [\"common cold\", \"pneumonia\"],\n",
    "            \"pneumonia\": [\"flu\"],\n",
    "            \"tuberculosis\": [],\n",
    "            \"allergies\": [\"common cold\"],\n",
    "            \"cough\": [\"common cold\", \"flu\", \"pneumonia\", \"tuberculosis\"],\n",
    "            \"sneezing\": [\"common cold\", \"flu\", \"allergies\"],\n",
    "            \"fever\": [\"flu\", \"pneumonia\"]\n",
    "\n",
    "        }\n",
    "\n",
    "    def diagnose(self, symptoms):\n",
    "        possible_diseases = {}\n",
    "        for symptom in symptoms:\n",
    "            for disease in self.relationships.get(symptom, []):\n",
    "                possible_diseases[disease] = possible_diseases.get(disease, 0) + 1\n",
    "\n",
    "        # Sort diseases by the number of matching symptoms (most relevant first)\n",
    "        sorted_diseases = sorted(possible_diseases.items(), key=lambda x: x[1], reverse=True)\n",
    "\n",
    "        return [disease for disease, _ in sorted_diseases]\n",
    "\n",
    "# Interactive mode\n",
    "kb = KnowledgeBase()\n",
    "print(\"Welcome to the Medical Diagnosis Knowledge-Based System\")\n",
    "print(\"Possible symptoms:\", \", \".join(kb.relationships.keys()))\n",
    "print(\"\\nEnter symptoms (comma separated):\")\n",
    "user_input = input(\">\").lower().split(\",\")\n",
    "\n",
    "symptoms = [symptom.strip() for symptom in user_input]\n",
    "diagnoses = kb.diagnose(symptoms)\n",
    "\n",
    "if diagnoses:\n",
    "    print(\"Possible diagnoses:\")\n",
    "    for disease in diagnoses:\n",
    "        print(f\"- {disease}: {kb.diseases[disease]['treatment']}\")\n",
    "else:\n",
    "    print(\"No diagnoses found. Please consult a doctor.\")"
   ]
  }
 ],
 "metadata": {
  "kernelspec": {
   "display_name": "Python 3",
   "language": "python",
   "name": "python3"
  },
  "language_info": {
   "codemirror_mode": {
    "name": "ipython",
    "version": 3
   },
   "file_extension": ".py",
   "mimetype": "text/x-python",
   "name": "python",
   "nbconvert_exporter": "python",
   "pygments_lexer": "ipython3",
   "version": "3.12.6"
  }
 },
 "nbformat": 4,
 "nbformat_minor": 2
}
