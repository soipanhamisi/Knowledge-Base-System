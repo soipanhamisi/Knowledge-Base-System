{
 "cells": [
  {
   "cell_type": "code",
   "execution_count": 1,
   "metadata": {},
   "outputs": [
    {
     "name": "stdout",
     "output_type": "stream",
     "text": [
      "Adds sprinkles... \n",
      "Here is a vanilla ice cream\n"
     ]
    }
   ],
   "source": [
    "#how decorators work\n",
    "#addeding a decorator funtion that takes the base funtion as an argument\n",
    "def add_sprinkles(func):\n",
    "    def wrapper(*args, **kwargs):#definnig a wrapper function tha takes in any number of arguments\n",
    "        print(\"Adds sprinkles... \")\n",
    "        func(*args, **kwargs)#calling the base funtion\n",
    "    return wrapper#returning the wrapper funtion ie the base function and the extended functionality/decorator\n",
    "\n",
    "\n",
    "#defining a base funtion\n",
    "@add_sprinkles#calling the decorator function\n",
    "def print_ice_cream(flavor):\n",
    "    print(f\"Here is a {flavor} ice cream\")\n",
    "\n",
    "print_ice_cream(\"vanilla\")#calling the base funtion"
   ]
  },
  {
   "cell_type": "code",
   "execution_count": null,
   "metadata": {},
   "outputs": [
    {
     "name": "stdout",
     "output_type": "stream",
     "text": [
      "This is a cat!\n",
      "This is a cat!\n"
     ]
    }
   ],
   "source": [
    "from experta import *\n",
    "from collections import defaultdict\n",
    "\n",
    "class Rule:\n",
    "    def __init__(self, *args):\n",
    "        self.conditions = []\n",
    "        for arg in args:\n",
    "            if isinstance(arg, Fact):\n",
    "                self.conditions.append(arg)\n",
    "            elif callable(arg):\n",
    "                self.conditions.append(arg)\n",
    "\n",
    "    def __call__(self, engine):\n",
    "        \"\"\"\n",
    "        This method is called when the rule is evaluated.\n",
    "        It checks if all conditions are met and executes the associated action.\n",
    "        \"\"\"\n",
    "        for condition in self.conditions:\n",
    "            if callable(condition):\n",
    "                if not condition(engine):\n",
    "                    return False  # Condition not met\n",
    "            elif not engine.facts.match(condition):\n",
    "                return False  # Fact not found\n",
    "\n",
    "        # All conditions met, execute the action\n",
    "        engine.agenda.append(self)\n",
    "        return True\n",
    "\n",
    "class KnowledgeEngine:\n",
    "    def __init__(self):\n",
    "        self.facts = defaultdict(list)\n",
    "        self.agenda = []\n",
    "\n",
    "    def declare(self, fact):\n",
    "        if isinstance(fact, Fact):\n",
    "            self.facts[type(fact)].append(fact)\n",
    "        else:\n",
    "            raise TypeError(\"Only Fact objects can be declared.\")\n",
    "\n",
    "    def run(self):\n",
    "        while self.agenda:\n",
    "            rule = self.agenda.pop(0)\n",
    "            rule.execute(self) \n",
    "\n",
    "# Example Usage\n",
    "class MyKnowledgeBase(KnowledgeEngine):\n",
    "    @Rule(Fact('animal', family='felinae'))\n",
    "    def is_a_cat(self):\n",
    "        print(\"This is a cat!\")\n",
    "\n",
    "engine = MyKnowledgeBase()\n",
    "engine.reset()\n",
    "engine.declare(Fact('animal', family='felinae'))\n",
    "engine.run()"
   ]
  }
 ],
 "metadata": {
  "kernelspec": {
   "display_name": "Python 3",
   "language": "python",
   "name": "python3"
  },
  "language_info": {
   "codemirror_mode": {
    "name": "ipython",
    "version": 3
   },
   "file_extension": ".py",
   "mimetype": "text/x-python",
   "name": "python",
   "nbconvert_exporter": "python",
   "pygments_lexer": "ipython3",
   "version": "3.12.6"
  }
 },
 "nbformat": 4,
 "nbformat_minor": 2
}
